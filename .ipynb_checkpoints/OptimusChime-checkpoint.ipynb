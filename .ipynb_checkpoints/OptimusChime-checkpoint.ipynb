{
 "cells": [
  {
   "cell_type": "code",
   "execution_count": 1,
   "metadata": {},
   "outputs": [],
   "source": [
    "import scipy.io.wavfile as wavfile\n",
    "import scipy\n",
    "import scipy.fftpack\n",
    "import numpy as np\n",
    "from matplotlib import pyplot as plt\n",
    "import matplotlib\n",
    "from sklearn import metrics\n",
    "from math import log2, pow\n",
    "from scipy.signal import hamming"
   ]
  },
  {
   "cell_type": "code",
   "execution_count": 104,
   "metadata": {},
   "outputs": [],
   "source": [
    "def chunkify(data, window_size, overlap, f):\n",
    "    jump = window_size - overlap\n",
    "    return [f(data[i : i + window_size]) for i in range(0, len(data), jump) if i + window_size <= len(data)]\n",
    "        \n",
    "def hps_function(x, numProd, fs, Nfft = None):\n",
    "    Nfft = x.size\n",
    "\n",
    "    f = np.arange(Nfft) / Nfft\n",
    "    xf = scipy.fft(x, Nfft)\n",
    "\n",
    "    xf = np.abs(xf[f < 0.5])\n",
    "    f = f[f < 0.5]\n",
    "    N = f.size\n",
    "\n",
    "    smallestLength = int(np.ceil(N / numProd))\n",
    "    y = xf[:smallestLength].copy()\n",
    "    for i in range(2, numProd + 1):\n",
    "        y *= xf[::i][:smallestLength]\n",
    "    f = f[:smallestLength] * fs\n",
    "    \n",
    "    amplitudes = y\n",
    "    frequencies = f\n",
    "    \n",
    "    return frequencies, amplitudes\n",
    "\n",
    "def to_note(f):\n",
    "    A4 = 440\n",
    "    C0 = A4*np.power(2, -4.75)\n",
    "    name = [\"C\", \"C#\", \"D\", \"D#\", \"E\", \"F\", \"F#\", \"G\", \"G#\", \"A\", \"A#\", \"B\"]\n",
    "\n",
    "    h = round(12*log2(f/C0))\n",
    "    octave = h // 12\n",
    "    n = h % 12\n",
    "    return name[n] + str(octave)"
   ]
  },
  {
   "cell_type": "code",
   "execution_count": 325,
   "metadata": {},
   "outputs": [],
   "source": [
    "class singer:\n",
    "    def __init__(self, name, **vocal_range):\n",
    "        \"\"\"\n",
    "        @name: str, name of singer for indexing\n",
    "        @vocal_range: either tuple of integers (for later classification), or hard-entered str (\"S, A, T, B\")\n",
    "        \"\"\"\n",
    "        self.name = name \n",
    "        if vocal_range:  \n",
    "            self.vocal_range = vocal_range\n",
    "        \n",
    "        #as of right now, these are the only initial inputs I can think of that are necessary to initiliaze\n",
    "        \n",
    "    def read(self, file_path):\n",
    "        \"\"\"\n",
    "        @file_path: str, path to audio recording\n",
    "        \"\"\"\n",
    "        self.sampling_rate, self.audio_data = wavfile.read(file_path)\n",
    "    \n",
    "    def fft(self, plot = False):\n",
    "\n",
    "        sample_rate, signal = self.sampling_rate, self.audio_data\n",
    "        \n",
    "        self.signal = self.audio_data\n",
    "\n",
    "        tracks = len(signal.shape)\n",
    "        if tracks == 2:\n",
    "            signal = signal.sum(axis=1) / 2\n",
    "            self.signal = signal\n",
    "\n",
    "        N = signal.shape[0]\n",
    "\n",
    "        time_total = N / float(sample_rate)\n",
    "\n",
    "        time_interval = 1.0/sample_rate \n",
    "\n",
    "        t = np.arange(0, time_total, time_interval) \n",
    "\n",
    "        FFT_full = abs(scipy.fft(signal)) #\"real\"-ize the values\n",
    "        FFT = FFT_full[range(N//2)] #removes unnecessary values from analysis (symmetry)\n",
    "\n",
    "        freqs_full = scipy.fftpack.fftfreq(signal.size, t[1]-t[0])\n",
    "        fft_freqs = np.array(freqs_full)\n",
    "\n",
    "        freqs = freqs_full[range(N//2)] # one side frequency range\n",
    "        fft_freqs = np.array(freqs)\n",
    "\n",
    "        if plot == True:\n",
    "            plt.subplot(211)\n",
    "            p1 = plt.plot(t, signal, \"g\") # plotting the signal\n",
    "\n",
    "            plt.subplot(212)\n",
    "            p3 = plt.plot(freqs_side, abs(FFT_side), \"b\") # plotting the positive fft spectrum\n",
    "\n",
    "            plt.show()\n",
    "\n",
    "        self.frequencies = fft_freqs\n",
    "        self.amplitudes = np.array(FFT)\n",
    "\n",
    "    def fundamental(self, pitch = False):\n",
    "        #naive fundamental finder\n",
    "        amps = self.amplitudes\n",
    "        loc = amps.argmax()\n",
    "        fundamental = self.frequencies[loc]\n",
    "        print(fundamental)\n",
    "        \n",
    "        if pitch == True:\n",
    "            print(to_note(fundamental))\n",
    "            \n",
    "        self.fundamental = fundamental\n",
    "    \n",
    "    def auc_fundamental(self, window_size = 30, overlap = 10, pitch = False):\n",
    "        areas = []\n",
    "        freqs_loc = []\n",
    "        for i in range(0, len(self.frequencies), window_size - overlap):\n",
    "            x_range = self.frequencies[i: i + window_size]\n",
    "            y_range = self.amplitudes[i: i + window_size]\n",
    "            area = metrics.auc(x_range, y_range)\n",
    "            areas.append(area)\n",
    "            freqs_loc.append(self.frequencies[i])\n",
    "        areas = np.array(areas)\n",
    "        fund_loc = areas.argmax()\n",
    "        fund = freqs_loc[fund_loc]\n",
    "        print(fund)\n",
    "        \n",
    "        if pitch == True:\n",
    "            print(to_note(fund))\n",
    "            \n",
    "        self.auc_fundamental = fund\n",
    "        \n",
    "    def low_fundamental(self, window_size = 30, overlap = 10, tolerance = 0.01, pitch = False):\n",
    "        areas = []\n",
    "        freqs_loc = []\n",
    "        for i in range(0, len(self.frequencies), window_size - overlap):\n",
    "            x_range = self.frequencies[i: i + window_size]\n",
    "            y_range = self.amplitudes[i: i + window_size]\n",
    "            area = metrics.auc(x_range, y_range)\n",
    "            areas.append(area)\n",
    "            freqs_loc.append(self.frequencies[i])\n",
    "        areas = np.array(areas)\n",
    "        \n",
    "        total_area = metrics.auc(self.frequencies, self.amplitudes)\n",
    "        \n",
    "        limiter = total_area * tolerance\n",
    "        \n",
    "        freqs = np.array(freqs_loc)\n",
    "        \n",
    "        fund = freqs[np.where(areas > limiter)]\n",
    "        #fund = freqs_loc[fund_loc]\n",
    "        print(fund[0])\n",
    "        \n",
    "        if pitch == True:\n",
    "            print(to_note(fund[0]))\n",
    "            \n",
    "        self.low_auc_fundamental = fund[0]\n",
    "         \n",
    "    def hps(self, window_size = 1024**2, overlap = (1024**2)//2, numProd = 3):\n",
    "        \n",
    "        data = self.audio_data\n",
    "        fs = self.sampling_rate\n",
    "        \n",
    "        tracks = len(data.shape)\n",
    "        if tracks == 2:\n",
    "            data = data.sum(axis=1) / 2\n",
    "        \n",
    "        self.hps = hps_function(data[: window_size], numProd, fs)\n",
    "        \n",
    "    def hps_harmonics(self, window_size = 30, overlap = 10, pitch = False):              \n",
    "        areas = []\n",
    "        freqs_loc = []\n",
    "\n",
    "        for i in range(0, len(self.hps[0]), window_size - overlap):\n",
    "            x_range = self.hps[0][i: i + window_size]\n",
    "            y_range = self.hps[1][i: i + window_size]\n",
    "            area = metrics.auc(x_range, y_range)\n",
    "            areas.append(area)\n",
    "            freqs_loc.append(self.hps[0][i])\n",
    "\n",
    "        areas = np.array(areas)\n",
    "\n",
    "        total_area = metrics.auc(self.hps[0], self.hps[1])\n",
    "\n",
    "        average = total_area / (self.hps[0][-1] - self.hps[0][0])\n",
    "\n",
    "        freqs = np.array(freqs_loc)\n",
    "\n",
    "        fund = freqs[np.where(areas > average)]\n",
    "        \n",
    "        self.harmonix = fund\n",
    "        \n",
    "    def filter_harmonics(self, tolerance = 2):\n",
    "        window = scipy.signal.general_gaussian(101, p=1, sig=20)\n",
    "        filtered = scipy.signal.fftconvolve(window, self.hps[1])\n",
    "        filtered = (np.average(self.hps[1]) / np.average(filtered)) * filtered\n",
    "        filtered = np.roll(filtered, -50)\n",
    "        self.filtered = filtered[:-100]\n",
    "        \n",
    "        db = lambda x: np.log10(np.abs(x))\n",
    "        \n",
    "        self.log_filtered = db(self.filtered)\n",
    "        \n",
    "        freqs = self.hps[0]\n",
    "        \n",
    "        indices, _ = scipy.signal.find_peaks(self.log_filtered, prominence = tolerance)\n",
    "        \n",
    "        harms = freqs[indices]\n",
    "        \n",
    "        self.filharmonix = harms"
   ]
  },
  {
   "cell_type": "code",
   "execution_count": 302,
   "metadata": {},
   "outputs": [
    {
     "name": "stdout",
     "output_type": "stream",
     "text": [
      "596.9082446808511\n",
      "593.4175531914893\n",
      "D5\n",
      "578.4574468085107\n",
      "D5\n",
      "\n",
      "635.8045212765958\n",
      "633.311170212766\n",
      "D#5\n",
      "304.18882978723406\n",
      "D#4\n"
     ]
    }
   ],
   "source": [
    "JJO = singer(\"Jakub\")\n",
    "JJO.read(\"./recordings/vivaldi.wav\")\n",
    "JJO.fft()\n",
    "JJO.fundamental()\n",
    "JJO.auc_fundamental(pitch = True)\n",
    "JJO.low_fundamental(pitch = True)\n",
    "JJO.hps()\n",
    "\n",
    "print()\n",
    "\n",
    "ARJ = singer(\"Anthony\")\n",
    "ARJ.read(\"./recordings/handel.wav\")\n",
    "ARJ.fft()\n",
    "ARJ.fundamental()\n",
    "ARJ.auc_fundamental(pitch = True)\n",
    "ARJ.low_fundamental(pitch = True)\n",
    "ARJ.hps()"
   ]
  },
  {
   "cell_type": "code",
   "execution_count": 117,
   "metadata": {},
   "outputs": [
    {
     "data": {
      "image/png": "[encoded data removed]",
      "text/plain": [
       "<Figure size 432x288 with 1 Axes>"
      ]
     },
     "metadata": {
      "needs_background": "light"
     },
     "output_type": "display_data"
    }
   ],
   "source": [
    "fig = plt.figure()\n",
    "\n",
    "ax = plt.subplot(111)\n",
    "ax.plot(JJO.signal)\n",
    "ax.plot(ARJ.signal*10)\n",
    "\n",
    "plt.show()"
   ]
  },
  {
   "cell_type": "code",
   "execution_count": 118,
   "metadata": {},
   "outputs": [
    {
     "data": {
      "image/png": "[encoded data removed]",
      "text/plain": [
       "<Figure size 432x288 with 2 Axes>"
      ]
     },
     "metadata": {
      "needs_background": "light"
     },
     "output_type": "display_data"
    }
   ],
   "source": [
    "fig = plt.figure()\n",
    "\n",
    "ax = plt.subplot(211)\n",
    "ax.plot(JJO.frequencies, JJO.amplitudes)\n",
    "\n",
    "ax.set_xlim(0, 3000)\n",
    "\n",
    "ax = plt.subplot(212)\n",
    "ax.plot(ARJ.frequencies, ARJ.amplitudes*10)\n",
    "\n",
    "ax.set_xlim(0, 3000)\n",
    "\n",
    "plt.show()"
   ]
  },
  {
   "cell_type": "code",
   "execution_count": 119,
   "metadata": {},
   "outputs": [],
   "source": [
    "db = lambda x: np.log10(np.abs(x))"
   ]
  },
  {
   "cell_type": "code",
   "execution_count": 121,
   "metadata": {},
   "outputs": [
    {
     "data": {
      "text/plain": [
       "[<matplotlib.lines.Line2D at 0x1338e6810>]"
      ]
     },
     "execution_count": 121,
     "metadata": {},
     "output_type": "execute_result"
    },
    {
     "data": {
      "image/png": "[encoded data removed]",
      "text/plain": [
       "<Figure size 432x288 with 1 Axes>"
      ]
     },
     "metadata": {
      "needs_background": "light"
     },
     "output_type": "display_data"
    }
   ],
   "source": [
    "plt.plot(JJO.hps[0], db(JJO.hps[1]))"
   ]
  },
  {
   "cell_type": "code",
   "execution_count": 316,
   "metadata": {},
   "outputs": [
    {
     "data": {
      "text/plain": [
       "array([289.2287234 , 294.21542553, 299.20212766, 304.18882979,\n",
       "       309.17553191, 314.16223404, 319.14893617, 324.1356383 ,\n",
       "       588.43085106, 593.41755319, 598.40425532, 603.39095745,\n",
       "       608.37765957, 613.3643617 , 618.35106383, 623.33776596,\n",
       "       628.32446809, 633.31117021, 638.29787234, 643.28457447,\n",
       "       648.2712766 , 892.61968085, 897.60638298, 902.59308511,\n",
       "       907.57978723, 912.56648936, 917.55319149, 922.53989362,\n",
       "       927.52659574, 932.51329787, 937.5       , 942.48670213,\n",
       "       947.47340426, 952.46010638, 957.44680851, 962.43351064,\n",
       "       967.42021277])"
      ]
     },
     "execution_count": 316,
     "metadata": {},
     "output_type": "execute_result"
    }
   ],
   "source": [
    "ARJ.hps_harmonics()\n",
    "\n",
    "ARJ.harmonix"
   ]
  },
  {
   "cell_type": "code",
   "execution_count": 320,
   "metadata": {},
   "outputs": [
    {
     "data": {
      "text/plain": [
       "array([ 205.20279255,  311.41954787,  637.30053191,  940.24268617,\n",
       "       1265.87433511, 2700.04986702])"
      ]
     },
     "execution_count": 320,
     "metadata": {},
     "output_type": "execute_result"
    },
    {
     "data": {
      "image/png": "[encoded data removed]",
      "text/plain": [
       "<Figure size 432x288 with 1 Axes>"
      ]
     },
     "metadata": {
      "needs_background": "light"
     },
     "output_type": "display_data"
    }
   ],
   "source": [
    "ARJ.filter_harmonics(tolerance = 2)\n",
    "\n",
    "plt.plot(ARJ.hps[0], db(ARJ.filtered))\n",
    "plt.vlines(ARJ.filharmonix, 0, 20)\n",
    "plt.xlim(0,5000)\n",
    "\n",
    "ARJ.filharmonix"
   ]
  },
  {
   "cell_type": "code",
   "execution_count": 324,
   "metadata": {},
   "outputs": [
    {
     "data": {
      "text/plain": [
       "array([ 297.70611702,  398.93617021,  595.41223404,  797.62300532,\n",
       "        989.36170213, 1188.58045213, 1784.49135638, 2391.12367021,\n",
       "       2972.32380319])"
      ]
     },
     "execution_count": 324,
     "metadata": {},
     "output_type": "execute_result"
    },
    {
     "data": {
      "image/png": "[encoded data removed]",
      "text/plain": [
       "<Figure size 432x288 with 1 Axes>"
      ]
     },
     "metadata": {
      "needs_background": "light"
     },
     "output_type": "display_data"
    }
   ],
   "source": [
    "JJO.filter_harmonics(tolerance = 2)\n",
    "\n",
    "plt.plot(JJO.hps[0], db(JJO.filtered))\n",
    "plt.vlines(JJO.filharmonix, 0, 20)\n",
    "plt.xlim(0,5000)\n",
    "\n",
    "JJO.filharmonix"
   ]
  },
  {
   "cell_type": "code",
   "execution_count": null,
   "metadata": {},
   "outputs": [],
   "source": []
  }
 ],
 "metadata": {
  "kernelspec": {
   "display_name": "Python 3",
   "language": "python",
   "name": "python3"
  },
  "language_info": {
   "codemirror_mode": {
    "name": "ipython",
    "version": 3
   },
   "file_extension": ".py",
   "mimetype": "text/x-python",
   "name": "python",
   "nbconvert_exporter": "python",
   "pygments_lexer": "ipython3",
   "version": "3.7.4"
  }
 },
 "nbformat": 4,
 "nbformat_minor": 2
}
