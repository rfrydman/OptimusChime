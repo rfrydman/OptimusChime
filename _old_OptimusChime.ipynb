{
 "cells": [
  {
   "cell_type": "markdown",
   "metadata": {},
   "source": [
    "# OptimusChime: Singer Placement Algorithm"
   ]
  },
  {
   "cell_type": "code",
   "execution_count": 1,
   "metadata": {},
   "outputs": [],
   "source": [
    "import scipy.io.wavfile as wavfile\n",
    "import scipy\n",
    "import scipy.fftpack\n",
    "import numpy as np\n",
    "from matplotlib import pyplot as plt\n",
    "import matplotlib\n",
    "from sklearn import metrics\n",
    "from math import log2, pow\n",
    "from scipy.signal import hamming"
   ]
  },
  {
   "cell_type": "code",
   "execution_count": 2,
   "metadata": {},
   "outputs": [],
   "source": [
    "def chunkify(data, window_size, overlap, f):\n",
    "    jump = window_size - overlap\n",
    "    return [f(data[i : i + window_size]) for i in range(0, len(data), jump) if i + window_size <= len(data)]\n",
    "        \n",
    "def hps_function(x, numProd, Nfft = None):\n",
    "    Nfft = x.size\n",
    "    fs = 1\n",
    "\n",
    "    f = np.arange(Nfft) / Nfft\n",
    "    xf = scipy.fft(x, Nfft)\n",
    "\n",
    "    xf = np.abs(xf[f < 0.5])\n",
    "    f = f[f < 0.5]\n",
    "    N = f.size\n",
    "\n",
    "    smallestLength = int(np.ceil(N / numProd))\n",
    "    y = xf[:smallestLength].copy()\n",
    "    for i in range(2, numProd + 1):\n",
    "        y *= xf[::i][:smallestLength]\n",
    "    f = f[:smallestLength] * fs\n",
    "    return (y, f)\n",
    "\n",
    "def to_note(f):\n",
    "    A4 = 440\n",
    "    C0 = A4*np.power(2, -4.75)\n",
    "    name = [\"C\", \"C#\", \"D\", \"D#\", \"E\", \"F\", \"F#\", \"G\", \"G#\", \"A\", \"A#\", \"B\"]\n",
    "\n",
    "    h = round(12*log2(f/C0))\n",
    "    octave = h // 12\n",
    "    n = h % 12\n",
    "    return name[n] + str(octave)"
   ]
  },
  {
   "cell_type": "code",
   "execution_count": 80,
   "metadata": {},
   "outputs": [],
   "source": [
    "class singer:\n",
    "    def __init__(self, name, **vocal_range):\n",
    "        \"\"\"\n",
    "        @name: str, name of singer for indexing\n",
    "        @vocal_range: either tuple of integers (for later classification), or hard-entered str (\"S, A, T, B\")\n",
    "        \"\"\"\n",
    "        self.name = name \n",
    "        if vocal_range:  \n",
    "            self.vocal_range = vocal_range\n",
    "        \n",
    "        #as of right now, these are the only initial inputs I can think of that are necessary to initiliaze\n",
    "        \n",
    "    def read(self, file_path):\n",
    "        \"\"\"\n",
    "        @file_path: str, path to audio recording\n",
    "        \"\"\"\n",
    "        self.sampling_rate, self.audio_data = wavfile.read(file_path)\n",
    "    \n",
    "    def GENERAL_AUDIO_PROCESSING(self):\n",
    "        #catch-all function that will be developed to process data in any way that is required to perform FFT.\n",
    "        \n",
    "        #def normalize_audio(self):\n",
    "            #normalize the audio data to [-1, 1]\n",
    "            \n",
    "        return\n",
    "        \n",
    "    def rory_fft(self, **kwargs):\n",
    "        #This will be a self-coded fast Fourier transform, which I have not started work on yet\n",
    "        return\n",
    "    \n",
    "    def class_fft(self, plot = False):\n",
    "\n",
    "        sample_rate, signal = self.sampling_rate, self.audio_data\n",
    "\n",
    "        tracks = len(signal.shape)\n",
    "        if tracks == 2:\n",
    "            signal = signal.sum(axis=1) / 2\n",
    "\n",
    "        N = signal.shape[0]\n",
    "\n",
    "        time_total = N / float(sample_rate)\n",
    "\n",
    "        time_interval = 1.0/sample_rate \n",
    "\n",
    "        t = np.arange(0, time_total, time_interval) \n",
    "\n",
    "        FFT_full = abs(scipy.fft(signal)) #\"real\"-ize the values\n",
    "        FFT = FFT_full[range(N//2)] #removes unnecessary values from analysis (symmetry)\n",
    "\n",
    "        freqs_full = scipy.fftpack.fftfreq(signal.size, t[1]-t[0])\n",
    "        fft_freqs = np.array(freqs_full)\n",
    "\n",
    "        freqs = freqs_full[range(N//2)] # one side frequency range\n",
    "        fft_freqs = np.array(freqs)\n",
    "\n",
    "        if plot == True:\n",
    "            plt.subplot(211)\n",
    "            p1 = plt.plot(t, signal, \"g\") # plotting the signal\n",
    "\n",
    "            plt.subplot(212)\n",
    "            p3 = plt.plot(freqs_side, abs(FFT_side), \"b\") # plotting the positive fft spectrum\n",
    "\n",
    "            plt.show()\n",
    "\n",
    "        self.frequencies = fft_freqs\n",
    "        self.amplitudes = np.array(FFT)\n",
    "\n",
    "    def fundamental(self, pitch = False):\n",
    "    #naive fundamental finder\n",
    "        amps = self.amplitudes\n",
    "        loc = amps.argmax()\n",
    "        fundamental = self.frequencies[loc]\n",
    "        print(fundamental)\n",
    "        \n",
    "        if pitch == True:\n",
    "            print(to_note(fundamental))\n",
    "            \n",
    "        self.fundamental = fundamental\n",
    "    \n",
    "    def auc_fundamental(self, window_size = 100, overlap = 10, pitch = False):\n",
    "        areas = []\n",
    "        freqs_loc = []\n",
    "        for i in range(0, len(self.frequencies), window_size - overlap):\n",
    "            x_range = self.frequencies[i: i + window_size]\n",
    "            y_range = self.amplitudes[i: i + window_size]\n",
    "            area = metrics.auc(x_range, y_range)\n",
    "            areas.append(area)\n",
    "            freqs_loc.append(self.frequencies[i])\n",
    "        areas = np.array(areas)\n",
    "        fund_loc = areas.argmax()\n",
    "        fund = freqs_loc[fund_loc]\n",
    "        print(fund)\n",
    "        \n",
    "        if pitch == True:\n",
    "            print(to_note(fund))\n",
    "            \n",
    "        self.auc_fundamental = fund\n",
    "        \n",
    "    def low_fundamental(self, window_size = 30, overlap = 10, tolerance = 0.01, pitch = False):\n",
    "        areas = []\n",
    "        freqs_loc = []\n",
    "        for i in range(0, len(self.frequencies), window_size - overlap):\n",
    "            x_range = self.frequencies[i: i + window_size]\n",
    "            y_range = self.amplitudes[i: i + window_size]\n",
    "            area = metrics.auc(x_range, y_range)\n",
    "            areas.append(area)\n",
    "            freqs_loc.append(self.frequencies[i])\n",
    "        areas = np.array(areas)\n",
    "        \n",
    "        total_area = metrics.auc(self.frequencies, self.amplitudes)\n",
    "        \n",
    "        limiter = total_area * tolerance\n",
    "        \n",
    "        freqs = np.array(freqs_loc)\n",
    "        \n",
    "        fund = freqs[np.where(areas > limiter)]\n",
    "        #fund = freqs_loc[fund_loc]\n",
    "        print(fund[0])\n",
    "        \n",
    "        if pitch == True:\n",
    "            print(to_note(fund[0]))\n",
    "            \n",
    "        self.low_auc_fundamental = fund[0]\n",
    "         \n",
    "    def hps(self, window_size = 8*1024, overlap = (8*1024)//2, numProd = 5, fs = 1):\n",
    "        Nfft = int(4 * 2**np.ceil(np.log2(window_size)))\n",
    "        \n",
    "        data = self.audio_data\n",
    "        \n",
    "        tracks = len(data.shape)\n",
    "        if tracks == 2:\n",
    "            data = data.sum(axis=1) / 2\n",
    "\n",
    "        hpsArr = np.array(chunkify(data, window_size, overlap,\n",
    "                          f=lambda x: hps_function(x * hamming(len(x), False), numProd, Nfft)[0]))\n",
    "        \n",
    "        self.hpsArray = hpsArr\n",
    "        \n",
    "        self.hpsF = hps_function(data[: window_size], numProd, Nfft)[1] * fs\n",
    "        self.hpsT = np.arange(hpsArr.shape[0]) / fs * (window_size - overlap)\n",
    "    \n",
    "    def hps_plot(self, numProd = 5, window_length = 8*1024):\n",
    "        # Display\n",
    "        db20 = lambda x: np.log10(np.abs(x)) * 20\n",
    "        \n",
    "        plt.style.use(['dark_background','ggplot'])\n",
    "\n",
    "        plt.close()\n",
    "        plt.imshow(db20(self.hpsArray), aspect='auto', interpolation='nearest', cmap='viridis')\n",
    "        plt.xlabel('frequency (Hz)')\n",
    "        plt.ylabel('time (seconds)')\n",
    "        plt.title('Harmonic product spectrum: # products={}, window length={}'.format(numProd, window_length))\n",
    "        plt.tight_layout()\n",
    "        \n",
    "        plt.show()"
   ]
  },
  {
   "cell_type": "code",
   "execution_count": 81,
   "metadata": {},
   "outputs": [
    {
     "name": "stdout",
     "output_type": "stream",
     "text": [
      "596.9082446808511\n",
      "583.4441489361702\n",
      "D5\n",
      "\n",
      "635.8045212765958\n",
      "605.8843085106383\n",
      "D#5\n"
     ]
    }
   ],
   "source": [
    "JJO = singer(\"Jakub\")\n",
    "JJO.read(\"./recordings/vivaldi.wav\")\n",
    "JJO.class_fft()\n",
    "JJO.fundamental()\n",
    "JJO.auc_fundamental(pitch = True)\n",
    "JJO.hps()\n",
    "\n",
    "print()\n",
    "\n",
    "ARJ = singer(\"Anthony\")\n",
    "ARJ.read(\"./recordings/handel.wav\")\n",
    "ARJ.class_fft()\n",
    "ARJ.fundamental()\n",
    "ARJ.auc_fundamental(pitch = True)\n",
    "ARJ.hps()"
   ]
  },
  {
   "cell_type": "code",
   "execution_count": 82,
   "metadata": {},
   "outputs": [
    {
     "name": "stdout",
     "output_type": "stream",
     "text": [
      "578.4574468085107\n",
      "D5\n",
      "304.18882978723406\n",
      "D#4\n"
     ]
    }
   ],
   "source": [
    "JJO.low_fundamental(pitch = True)\n",
    "ARJ.low_fundamental(pitch = True)"
   ]
  },
  {
   "cell_type": "code",
   "execution_count": 32,
   "metadata": {},
   "outputs": [
    {
     "data": {
      "image/png": "[encoded data removed]",
      "text/plain": [
       "<Figure size 720x576 with 1 Axes>"
      ]
     },
     "metadata": {},
     "output_type": "display_data"
    }
   ],
   "source": [
    "fig = plt.figure(figsize=(10,8))\n",
    "\n",
    "ax = plt.subplot(111)\n",
    "ax.plot(JJO.frequencies, JJO.amplitudes)\n",
    "ax.plot(ARJ.frequencies, ARJ.amplitudes)\n",
    "ax.set_xlim(0, 1000)\n",
    "ax.set_ylim(0, 100000000)\n",
    "\n",
    "plt.show()"
   ]
  },
  {
   "cell_type": "markdown",
   "metadata": {},
   "source": [
    "The above class will serve as a general starting point for input and processing data, but as I have not fully implemented the class, I will proceed with some stand-alone functions for the rest of the check-in."
   ]
  },
  {
   "cell_type": "code",
   "execution_count": 1,
   "metadata": {},
   "outputs": [],
   "source": [
    "import scipy.io.wavfile as wavfile\n",
    "import scipy\n",
    "import scipy.fftpack\n",
    "import numpy as np\n",
    "from matplotlib import pyplot as plt\n",
    "from sklearn import metrics"
   ]
  },
  {
   "cell_type": "code",
   "execution_count": 174,
   "metadata": {},
   "outputs": [],
   "source": [
    "def analyze(file_path, plot = False):\n",
    "    sample_rate, signal = wavfile.read(file_path)\n",
    "\n",
    "    tracks = len(signal.shape)\n",
    "    if tracks == 2:\n",
    "        signal = signal.sum(axis=1) / 2\n",
    "\n",
    "    N = signal.shape[0]\n",
    "\n",
    "    time_total = N / float(sample_rate)\n",
    "\n",
    "    time_interval = 1.0/sample_rate \n",
    "\n",
    "    t = np.arange(0, time_total, time_interval) \n",
    "    \n",
    "    FFT_full = abs(scipy.fft(signal)) #\"real\"-ize the values\n",
    "    FFT = FFT_full[range(N//2)] #removes unnecessary values from analysis (symmetry)\n",
    "\n",
    "    freqs_full = scipy.fftpack.fftfreq(signal.size, t[1]-t[0])\n",
    "    fft_freqs = np.array(freqs_full)\n",
    "\n",
    "    freqs = freqs_full[range(N//2)] # one side frequency range\n",
    "    fft_freqs = np.array(freqs)\n",
    "    \n",
    "    if plot == True:\n",
    "        plt.subplot(211)\n",
    "        p1 = plt.plot(t, signal, \"g\") # plotting the signal\n",
    "\n",
    "        plt.subplot(212)\n",
    "        p3 = plt.plot(freqs_side, abs(FFT_side), \"b\") # plotting the positive fft spectrum\n",
    "\n",
    "        plt.show()\n",
    "    \n",
    "    return fft_freqs, np.array(FFT)"
   ]
  },
  {
   "cell_type": "code",
   "execution_count": 175,
   "metadata": {},
   "outputs": [],
   "source": [
    "handel_freq, handel_amp = analyze(\"./recordings/handel.wav\")\n",
    "vivaldi_freq, vivaldi_amp = analyze(\"./recordings/vivaldi.wav\")"
   ]
  },
  {
   "cell_type": "markdown",
   "metadata": {},
   "source": [
    "The two above audio files are real singers singing unaccompanied (both are excerpts from classical pieces that I knew had unaccompanied sections). Length doesn't matter as the FFT transform just needs a sample (although I suspect longer recordings are better, as long as the pitch is held constant).\n",
    "\n",
    "One of the key things to note here is that I need the singers' recordings to be in .wav format, and also need the notes to be the same pitch. For the two above recordings, the pitches are completely different, so the analysis wont actually work. Nevertheless, I will continue on"
   ]
  },
  {
   "cell_type": "markdown",
   "metadata": {},
   "source": [
    "### Create a function to identify fundamental note\n",
    "\n",
    "Although this is labeled data, I still want the environment to have the fundamental frequency to perform the analyses. Finding the fundamental before the harmonics seems reasonable as the fundamental has the highest frequency amplitude, and the identification of harmonics should be identified based on the fundamental."
   ]
  },
  {
   "cell_type": "code",
   "execution_count": 4,
   "metadata": {},
   "outputs": [],
   "source": [
    "def fundamental(freq, amp):\n",
    "    #naive fundamental finder\n",
    "    loc = amp.argmax()\n",
    "    fundamental = freq[loc]\n",
    "    return fundamental"
   ]
  },
  {
   "cell_type": "markdown",
   "metadata": {},
   "source": [
    "The fundamental could be more accurately found by computing area under the frequency amplitude curve around a midpoint. The largest area under the curve would be the fundamental. This would also allow identification of secondary pitches that have large freq amplitudes."
   ]
  },
  {
   "cell_type": "code",
   "execution_count": 176,
   "metadata": {},
   "outputs": [],
   "source": [
    "handel_fund = fundamental(handel_freq, handel_amp)\n",
    "vivaldi_fund = fundamental(vivaldi_freq, vivaldi_amp)"
   ]
  },
  {
   "cell_type": "code",
   "execution_count": 177,
   "metadata": {},
   "outputs": [
    {
     "name": "stdout",
     "output_type": "stream",
     "text": [
      "635.8045212765958 596.9082446808511\n"
     ]
    }
   ],
   "source": [
    "print(handel_fund, vivaldi_fund)"
   ]
  },
  {
   "cell_type": "code",
   "execution_count": 161,
   "metadata": {},
   "outputs": [],
   "source": [
    "def area_fund(freq, amp, tol = 50):\n",
    "    areas = []\n",
    "    freqs_loc = []\n",
    "    i = 0\n",
    "    while i < len(amp):\n",
    "        x_range = freq[i:i+tol]\n",
    "        y_range = amp[i:i+tol]\n",
    "        area = metrics.auc(x_range, y_range)\n",
    "        areas.append(area)\n",
    "        freqs_loc.append(freq[i])\n",
    "        i += tol \n",
    "    areas = np.array(areas)\n",
    "    fund_loc = areas.argmax()\n",
    "    fund = freqs_loc[fund_loc]\n",
    "    return fund"
   ]
  },
  {
   "cell_type": "code",
   "execution_count": 162,
   "metadata": {},
   "outputs": [],
   "source": [
    "handel_fund_1 = area_fund(handel_freq, handel_amp)\n",
    "vivaldi_fund_1 = area_fund(vivaldi_freq, vivaldi_amp)"
   ]
  },
  {
   "cell_type": "code",
   "execution_count": 164,
   "metadata": {},
   "outputs": [
    {
     "name": "stdout",
     "output_type": "stream",
     "text": [
      "610.8710106382979 585.9375\n"
     ]
    }
   ],
   "source": [
    "print(handel_fund_1, vivaldi_fund_1)"
   ]
  },
  {
   "cell_type": "markdown",
   "metadata": {},
   "source": [
    "## To Do:\n",
    "\n",
    "1. Calculate the harmonics\n",
    "2. Create clean superposed sine wave models of singers voices\n",
    "3. Make figures\n",
    "\n",
    "    Animate interferences patterns of different singers\n",
    "    \n",
    "    Plot harmonic power series plot\n",
    "    \n",
    "\n",
    "4. Create a naive algorithm that optimizes vocal placement:\n",
    "\n",
    "    Given a set of N recordings, pair-wise minimize the weighted sum of the differences of the harmonics of two recordings, return the list of sorted recordings\n",
    "    \n",
    "\n",
    "5. Create a better algorithm:\n",
    "\n",
    "    Given the same set of recordings, pair-wise minimize the weighted sum of a cost function over the harmonics of two recordings, return the list of ordered recordings, also consider voice part/gender.\n",
    "    \n",
    "    **COST FUNCTION IDEAS:** The closer the harmonics of the recordings are, the more dissonant it will sound, unless they are within a certain very fine tolerance interval. The naive difference cost function will promote dissonance (ugly beats) over harmony because some singers' harmonics will be minimized, but outside the interval of tolerance. In fact, singers with harmonics very far apart may actually sound \"better\" than ones with harmonics close together. A cost function that evaluates how close each singer's harmonics are to the **_harmonics of the harmonics_** of the other singer, while also severely penalizing values within the dissonance interval. \n",
    "    \n",
    "    \n",
    "6. Final visualization ideas:\n",
    "\n",
    "   Plot of HPS of each singer\n",
    "   \n",
    "   Final choir arrangement plot (with intermediate steps: different choir shapes: list, array (nearest neighbour minimisation)\n",
    "   \n",
    "   Plot \"dissonance\" of each singer (the beat frequency metric)\n",
    "   \n",
    "   More to come as I see what data I end up generating\n",
    "   \n",
    "7. Possible extra tidbits:\n",
    "    \n",
    "    Add considerations of spacing between singers and direction (would incorporate phase, so would likely use clean sinusoidal model)\n",
    "    \n",
    "   \n",
    "   \n",
    "    "
   ]
  },
  {
   "cell_type": "markdown",
   "metadata": {},
   "source": [
    "WANT TO IMPLEMENT SOMETHING LIKE THIS FOR HPS:\n",
    "\n",
    "https://gist.github.com/fasiha/957035272009eb1c9eb370936a6af2eb"
   ]
  },
  {
   "cell_type": "code",
   "execution_count": null,
   "metadata": {},
   "outputs": [],
   "source": []
  },
  {
   "cell_type": "code",
   "execution_count": null,
   "metadata": {},
   "outputs": [],
   "source": []
  }
 ],
 "metadata": {
  "kernelspec": {
   "display_name": "Python 3",
   "language": "python",
   "name": "python3"
  },
  "language_info": {
   "codemirror_mode": {
    "name": "ipython",
    "version": 3
   },
   "file_extension": ".py",
   "mimetype": "text/x-python",
   "name": "python",
   "nbconvert_exporter": "python",
   "pygments_lexer": "ipython3",
   "version": "3.7.4"
  }
 },
 "nbformat": 4,
 "nbformat_minor": 2
}
